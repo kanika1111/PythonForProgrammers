{
 "cells": [
  {
   "cell_type": "code",
   "execution_count": 8,
   "metadata": {},
   "outputs": [
    {
     "name": "stdout",
     "output_type": "stream",
     "text": [
      "8730 - 0378 = 8352\n",
      "8532 - 2358 = 6174\n",
      "Kaprekar reached: 6174 Number of steps is: 2\n",
      "9730 - 0379 = 9351\n",
      "9531 - 1359 = 8172\n",
      "8721 - 1278 = 7443\n",
      "7443 - 3447 = 3996\n",
      "9963 - 3699 = 6264\n",
      "6642 - 2466 = 4176\n",
      "7641 - 1467 = 6174\n",
      "Kaprekar reached: 6174 Number of steps is: 7\n"
     ]
    }
   ],
   "source": [
    "'''Q1 counting the no.of steps to reach kaprekar constant for 8730 and 9730\n",
    "'''\n",
    "\n",
    "def asc(n):\n",
    "    return ''.join(sorted(str(n))) # sort the number in ascending order and join with empyty seperator\n",
    "def desc(n):\n",
    "    return ''.join(sorted(str(n))[::-1]) # sort the number in descending order\n",
    "\n",
    "def kaprekar_steps(n):\n",
    "    count =0    \n",
    "    while n != int(desc(n)) - int(asc(n)): # while n doesnt become 6174 (as 7641-1467 = 6174)\n",
    "        print(desc(n), \"-\", asc(n), \"=\", int(desc(n))-int(asc(n)))  #print the step with the result of subtraction\n",
    "        n = int(desc(n)) - int(asc(n)) # repeat the above steps\n",
    "        count+=1                       # increase the count to keep a track of the steps\n",
    "    print (\"Kaprekar reached:\", n,\"Number of steps is:\",count)\n",
    "kaprekar_steps(8730)\n",
    "kaprekar_steps(9730)\n"
   ]
  },
  {
   "cell_type": "code",
   "execution_count": 5,
   "metadata": {},
   "outputs": [
    {
     "data": {
      "text/plain": [
       "'12W1B12W3B24W1B14W'"
      ]
     },
     "execution_count": 5,
     "metadata": {},
     "output_type": "execute_result"
    }
   ],
   "source": [
    "'''Q2 Run length encoding\n",
    "'''\n",
    "\n",
    "\n",
    "def string_compression(input):\n",
    "    \n",
    "    output =''   # empty string\n",
    "    count = 1    # initial value is 1 not 0 so that the first occurence of the first char is taken into account\n",
    "    for i in range(len(input)-1):\n",
    "        if input[i] == input[i+1] :\n",
    "            count += 1\n",
    "        else:\n",
    "            output = (output) + str(count) + input[i]\n",
    "            count = 1\n",
    "    output =   (output) + str(count) + input[i] # for the last char in the string\n",
    "    return output\n",
    "        \n",
    "string_compression('WWWWWWWWWWWWBWWWWWWWWWWWWBBBWWWWWWWWWWWWWWWWWWWWWWWWBWWWWWWWWWWWWWW' )\n",
    "        "
   ]
  },
  {
   "cell_type": "code",
   "execution_count": null,
   "metadata": {},
   "outputs": [],
   "source": []
  }
 ],
 "metadata": {
  "anaconda-cloud": {},
  "kernelspec": {
   "display_name": "Python [default]",
   "language": "python",
   "name": "python3"
  },
  "language_info": {
   "codemirror_mode": {
    "name": "ipython",
    "version": 3
   },
   "file_extension": ".py",
   "mimetype": "text/x-python",
   "name": "python",
   "nbconvert_exporter": "python",
   "pygments_lexer": "ipython3",
   "version": "3.6.5"
  }
 },
 "nbformat": 4,
 "nbformat_minor": 2
}
