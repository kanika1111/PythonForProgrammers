{
 "cells": [
  {
   "cell_type": "code",
   "execution_count": 130,
   "metadata": {},
   "outputs": [
    {
     "data": {
      "text/html": [
       "<img src=\"https://docs.mongodb.com/manual/_images/map-reduce.bakedsvg.svg\" width=\"400\" height=\"400\"/>"
      ],
      "text/plain": [
       "<IPython.core.display.Image object>"
      ]
     },
     "execution_count": 130,
     "metadata": {},
     "output_type": "execute_result"
    }
   ],
   "source": [
    "#this is a sample code to use map reduce to find the population of the california state from the data base\n",
    "# In this map-reduce operation, MongoDB applies the map phase to each input document \n",
    "# (i.e. the documents in the collection that match the query condition). \n",
    "# The map function emits key-value pairs. For those keys that have multiple values, \n",
    "# MongoDB applies the reduce phase, which collects and condenses the aggregated data. \n",
    "# MongoDB then stores the results in a collection. Optionally, \n",
    "# the output of the reduce function may pass through a finalize function to further condense or \n",
    "# process the results of the aggregation.\n",
    "\n",
    "# All map-reduce functions in MongoDB are JavaScript and run within the mongod process. \n",
    "# Map-reduce operations take the documents of a single collection as the input and \n",
    "# can perform any arbitrary sorting and limiting before beginning the map stage. \n",
    "# mapReduce can return the results of a map-reduce operation as a document, or may write the results to collections. \n",
    "# The input and the output collections may be sharded.\n",
    "#Source:-https://docs.mongodb.com/manual/core/map-reduce/\n",
    "from IPython.core.display import HTML \n",
    "Image(url=\"https://docs.mongodb.com/manual/_images/map-reduce.bakedsvg.svg\",width=400,height=400)"
   ]
  },
  {
   "cell_type": "code",
   "execution_count": null,
   "metadata": {},
   "outputs": [],
   "source": [
    "from pymongo import MongoClient\n",
    "import pprint as pp"
   ]
  },
  {
   "cell_type": "code",
   "execution_count": 14,
   "metadata": {},
   "outputs": [
    {
     "name": "stdout",
     "output_type": "stream",
     "text": [
      "['abc', 'admin', 'geodb', 'local', 'new_db', 'newdb', 'priyanshu', 'users']\n"
     ]
    }
   ],
   "source": [
    "client = MongoClient('localhost', 27017)\n",
    "dbs=client.database_names()\n",
    "print(dbs)"
   ]
  },
  {
   "cell_type": "code",
   "execution_count": 15,
   "metadata": {},
   "outputs": [],
   "source": [
    "db=client.abc"
   ]
  },
  {
   "cell_type": "code",
   "execution_count": 16,
   "metadata": {},
   "outputs": [],
   "source": [
    "collection=db.cityinfo"
   ]
  },
  {
   "cell_type": "code",
   "execution_count": 17,
   "metadata": {},
   "outputs": [
    {
     "name": "stdout",
     "output_type": "stream",
     "text": [
      "{'_id': '01001',\n",
      " 'city': 'AGAWAM',\n",
      " 'loc': [-72.622739, 42.070206],\n",
      " 'pop': 15338,\n",
      " 'state': 'MA'}\n",
      "{'_id': '01002',\n",
      " 'city': 'CUSHMAN',\n",
      " 'loc': [-72.51565, 42.377017],\n",
      " 'pop': 36963,\n",
      " 'state': 'MA'}\n",
      "{'_id': '01007',\n",
      " 'city': 'BELCHERTOWN',\n",
      " 'loc': [-72.410953, 42.275103],\n",
      " 'pop': 10579,\n",
      " 'state': 'MA'}\n",
      "{'_id': '01005',\n",
      " 'city': 'BARRE',\n",
      " 'loc': [-72.108354, 42.409698],\n",
      " 'pop': 4546,\n",
      " 'state': 'MA'}\n",
      "{'_id': '01010',\n",
      " 'city': 'BRIMFIELD',\n",
      " 'loc': [-72.188455, 42.116543],\n",
      " 'pop': 3706,\n",
      " 'state': 'MA'}\n",
      "{'_id': '01008',\n",
      " 'city': 'BLANDFORD',\n",
      " 'loc': [-72.936114, 42.182949],\n",
      " 'pop': 1240,\n",
      " 'state': 'MA'}\n",
      "{'_id': '01012',\n",
      " 'city': 'CHESTERFIELD',\n",
      " 'loc': [-72.833309, 42.38167],\n",
      " 'pop': 177,\n",
      " 'state': 'MA'}\n",
      "{'_id': '01011',\n",
      " 'city': 'CHESTER',\n",
      " 'loc': [-72.988761, 42.279421],\n",
      " 'pop': 1688,\n",
      " 'state': 'MA'}\n",
      "{'_id': '01013',\n",
      " 'city': 'CHICOPEE',\n",
      " 'loc': [-72.607962, 42.162046],\n",
      " 'pop': 23396,\n",
      " 'state': 'MA'}\n",
      "{'_id': '01020',\n",
      " 'city': 'CHICOPEE',\n",
      " 'loc': [-72.576142, 42.176443],\n",
      " 'pop': 31495,\n",
      " 'state': 'MA'}\n"
     ]
    }
   ],
   "source": [
    "import pprint\n",
    "for item in collection.find().limit(10):\n",
    "    pprint.pprint(item)"
   ]
  },
  {
   "cell_type": "code",
   "execution_count": 120,
   "metadata": {},
   "outputs": [],
   "source": [
    "map = 'function() { emit(this.state, { count:1,sum: this.pop}); }'"
   ]
  },
  {
   "cell_type": "code",
   "execution_count": 121,
   "metadata": {},
   "outputs": [],
   "source": [
    "reduce = '''function(key, values) {\n",
    "     var result = { count:0, sum: 0 };\n",
    "     values.forEach(function(value) {\n",
    "         result.count += value.count;\n",
    "         result.sum += value.sum; })\n",
    "     return result; }'''"
   ]
  },
  {
   "cell_type": "code",
   "execution_count": 122,
   "metadata": {},
   "outputs": [],
   "source": [
    "finalize = '''function(k, v) { \n",
    "     return { sum: v.sum, \n",
    "              count: v.count} }'''"
   ]
  },
  {
   "cell_type": "code",
   "execution_count": 123,
   "metadata": {},
   "outputs": [],
   "source": [
    "query = { 'state':'CA' }"
   ]
  },
  {
   "cell_type": "code",
   "execution_count": 124,
   "metadata": {},
   "outputs": [
    {
     "data": {
      "text/plain": [
       "{'results': [{'_id': 'CA', 'value': {'sum': 29754890.0, 'count': 1516.0}}],\n",
       " 'timeMillis': 72,\n",
       " 'counts': {'input': 1516, 'emit': 1516, 'reduce': 16, 'output': 1},\n",
       " 'ok': 1.0}"
      ]
     },
     "execution_count": 124,
     "metadata": {},
     "output_type": "execute_result"
    }
   ],
   "source": [
    "collection.map_reduce(map, reduce, {'inline':1}, query=query, finalize=finalize)"
   ]
  },
  {
   "cell_type": "code",
   "execution_count": null,
   "metadata": {
    "collapsed": true
   },
   "outputs": [],
   "source": []
  }
 ],
 "metadata": {
  "anaconda-cloud": {},
  "kernelspec": {
   "display_name": "Python [conda env:Anaconda3]",
   "language": "python",
   "name": "conda-env-Anaconda3-py"
  },
  "language_info": {
   "codemirror_mode": {
    "name": "ipython",
    "version": 3
   },
   "file_extension": ".py",
   "mimetype": "text/x-python",
   "name": "python",
   "nbconvert_exporter": "python",
   "pygments_lexer": "ipython3",
   "version": "3.6.5"
  }
 },
 "nbformat": 4,
 "nbformat_minor": 2
}
