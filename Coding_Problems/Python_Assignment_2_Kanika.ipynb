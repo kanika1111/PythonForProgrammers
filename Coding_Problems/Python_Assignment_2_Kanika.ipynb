{
 "cells": [
  {
   "cell_type": "code",
   "execution_count": null,
   "metadata": {},
   "outputs": [],
   "source": [
    "class InsertCalculator():\n",
    "    finalval = 0\n",
    "    def __init__(self,year,rate,principle):\n",
    "        self.year = year\n",
    "        self.rate = rate\n",
    "        self.principle = principle\n",
    "    \n",
    "    \n",
    "    \n",
    "class CICalculator(InsertCalculator):\n",
    "    #finalval= 0\n",
    "    def calcfinalval(self):\n",
    "        self.finalval = (pow((1 + self.rate / 100), self.year))* self.principle \n",
    "        return self.finalval\n",
    "    \n",
    "    \n",
    "class SICalculator(InsertCalculator):\n",
    "    #finalval =0\n",
    "    def calcfinalval(self):\n",
    "        self.finalval = (self.principle*self.rate*self.year)/100\n",
    "        return self.finalval\n",
    "\n",
    "\n",
    "c = CICalculator(2,0.1,1000)\n",
    "c.calcfinalval()\n",
    "print(c.finalval)\n",
    "\n",
    "s = SICalculator(2,0.1,1000)\n",
    "s.calcfinalval()\n",
    "print(s.finalval)\n"
   ]
  },
  {
   "cell_type": "code",
   "execution_count": null,
   "metadata": {},
   "outputs": [],
   "source": [
    "# A stack follows LIFO (last-in, first-out). LIFO is the case where the last \n",
    "# element added is the first element that can be retrieved. \n",
    "# Consider a list with values [4,6,9]. Create a class called Sclass with \n",
    "# functions sadd and sretrieve to add and pop elements from the list \n",
    "# in LIFO order respectively. After each function call, print the contents \n",
    "# of the list. Add 12 to the stack and then follow the LIFO rules and \n",
    "# pop elements until the list is empty.\n"
   ]
  },
  {
   "cell_type": "code",
   "execution_count": 2,
   "metadata": {},
   "outputs": [],
   "source": [
    "class Sclass:\n",
    "    def __init__(self):\n",
    "        self.stack=[]\n",
    "    def sadd(self,sdata):\n",
    "        for item in sdata:\n",
    "            self.stack.append(item)\n",
    "        print(\"Stack is:\",self.stack)\n",
    "    def sretrieve(self):\n",
    "        while len(self.stack)>0:\n",
    "            element=self.stack.pop()\n",
    "            print(\"Stack after pop is:\",self.stack,\"Element poped is:\",element)\n",
    "        else:\n",
    "            print(\"Your Stack is empty\")"
   ]
  },
  {
   "cell_type": "code",
   "execution_count": 3,
   "metadata": {},
   "outputs": [
    {
     "name": "stdout",
     "output_type": "stream",
     "text": [
      "Stack is: [4, 6, 9]\n"
     ]
    }
   ],
   "source": [
    "temp=Sclass()\n",
    "temp.sadd([4,6,9])"
   ]
  },
  {
   "cell_type": "code",
   "execution_count": 4,
   "metadata": {},
   "outputs": [
    {
     "name": "stdout",
     "output_type": "stream",
     "text": [
      "Stack is: [4, 6, 9, 12]\n"
     ]
    }
   ],
   "source": [
    "temp.sadd([12])"
   ]
  },
  {
   "cell_type": "code",
   "execution_count": 5,
   "metadata": {},
   "outputs": [
    {
     "name": "stdout",
     "output_type": "stream",
     "text": [
      "Stack after pop is: [4, 6, 9] Element poped is: 12\n",
      "Stack after pop is: [4, 6] Element poped is: 9\n",
      "Stack after pop is: [4] Element poped is: 6\n",
      "Stack after pop is: [] Element poped is: 4\n",
      "Your Stack is empty\n"
     ]
    }
   ],
   "source": [
    "temp.sretrieve()"
   ]
  },
  {
   "cell_type": "code",
   "execution_count": 9,
   "metadata": {},
   "outputs": [
    {
     "name": "stdout",
     "output_type": "stream",
     "text": [
      "Your Stack is empty\n"
     ]
    }
   ],
   "source": []
  },
  {
   "cell_type": "code",
   "execution_count": 10,
   "metadata": {},
   "outputs": [
    {
     "name": "stdout",
     "output_type": "stream",
     "text": [
      "Your Stack is empty\n"
     ]
    }
   ],
   "source": [
    "temp.sretrieve()\n"
   ]
  },
  {
   "cell_type": "code",
   "execution_count": 11,
   "metadata": {},
   "outputs": [
    {
     "name": "stdout",
     "output_type": "stream",
     "text": [
      "Your Stack is empty\n"
     ]
    }
   ],
   "source": [
    "temp.sretrieve()"
   ]
  },
  {
   "cell_type": "code",
   "execution_count": null,
   "metadata": {},
   "outputs": [],
   "source": [
    "temp.sretrieve()"
   ]
  },
  {
   "cell_type": "code",
   "execution_count": null,
   "metadata": {},
   "outputs": [],
   "source": []
  }
 ],
 "metadata": {
  "kernelspec": {
   "display_name": "Python [conda env:Anaconda3]",
   "language": "python",
   "name": "conda-env-Anaconda3-py"
  },
  "language_info": {
   "codemirror_mode": {
    "name": "ipython",
    "version": 3
   },
   "file_extension": ".py",
   "mimetype": "text/x-python",
   "name": "python",
   "nbconvert_exporter": "python",
   "pygments_lexer": "ipython3",
   "version": "3.6.5"
  }
 },
 "nbformat": 4,
 "nbformat_minor": 2
}
